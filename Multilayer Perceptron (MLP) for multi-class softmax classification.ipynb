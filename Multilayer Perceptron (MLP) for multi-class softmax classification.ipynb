{
 "cells": [
  {
   "cell_type": "code",
   "execution_count": 1,
   "metadata": {},
   "outputs": [
    {
     "name": "stderr",
     "output_type": "stream",
     "text": [
      "Using TensorFlow backend.\n"
     ]
    }
   ],
   "source": [
    "import keras\n",
    "from keras.models import Sequential\n",
    "from keras.layers import Dense, Dropout, Activation\n",
    "from keras.optimizers import SGD"
   ]
  },
  {
   "cell_type": "code",
   "execution_count": 2,
   "metadata": {},
   "outputs": [
    {
     "name": "stdout",
     "output_type": "stream",
     "text": [
      "Epoch 1/20\n",
      "1000/1000 [==============================] - 0s 233us/step - loss: 2.4189 - acc: 0.0970\n",
      "Epoch 2/20\n",
      "1000/1000 [==============================] - 0s 20us/step - loss: 2.3646 - acc: 0.1020\n",
      "Epoch 3/20\n",
      "1000/1000 [==============================] - 0s 22us/step - loss: 2.3304 - acc: 0.1080\n",
      "Epoch 4/20\n",
      "1000/1000 [==============================] - 0s 22us/step - loss: 2.3277 - acc: 0.1050\n",
      "Epoch 5/20\n",
      "1000/1000 [==============================] - 0s 20us/step - loss: 2.3150 - acc: 0.1130\n",
      "Epoch 6/20\n",
      "1000/1000 [==============================] - 0s 16us/step - loss: 2.3138 - acc: 0.1130\n",
      "Epoch 7/20\n",
      "1000/1000 [==============================] - 0s 21us/step - loss: 2.3109 - acc: 0.1250\n",
      "Epoch 8/20\n",
      "1000/1000 [==============================] - 0s 20us/step - loss: 2.3085 - acc: 0.1020\n",
      "Epoch 9/20\n",
      "1000/1000 [==============================] - 0s 23us/step - loss: 2.3095 - acc: 0.1040\n",
      "Epoch 10/20\n",
      "1000/1000 [==============================] - 0s 22us/step - loss: 2.3098 - acc: 0.1180\n",
      "Epoch 11/20\n",
      "1000/1000 [==============================] - 0s 22us/step - loss: 2.2913 - acc: 0.1450\n",
      "Epoch 12/20\n",
      "1000/1000 [==============================] - 0s 23us/step - loss: 2.3069 - acc: 0.1100\n",
      "Epoch 13/20\n",
      "1000/1000 [==============================] - 0s 21us/step - loss: 2.3093 - acc: 0.1010\n",
      "Epoch 14/20\n",
      "1000/1000 [==============================] - 0s 26us/step - loss: 2.3013 - acc: 0.1130\n",
      "Epoch 15/20\n",
      "1000/1000 [==============================] - 0s 21us/step - loss: 2.3054 - acc: 0.1080\n",
      "Epoch 16/20\n",
      "1000/1000 [==============================] - 0s 26us/step - loss: 2.3050 - acc: 0.1130\n",
      "Epoch 17/20\n",
      "1000/1000 [==============================] - 0s 22us/step - loss: 2.2933 - acc: 0.1100\n",
      "Epoch 18/20\n",
      "1000/1000 [==============================] - 0s 23us/step - loss: 2.2984 - acc: 0.1160\n",
      "Epoch 19/20\n",
      "1000/1000 [==============================] - 0s 22us/step - loss: 2.3013 - acc: 0.1240\n",
      "Epoch 20/20\n",
      "1000/1000 [==============================] - 0s 24us/step - loss: 2.2980 - acc: 0.1180\n",
      "100/100 [==============================] - 0s 349us/step\n"
     ]
    }
   ],
   "source": [
    "# Generate dummy data\n",
    "import numpy as np\n",
    "x_train = np.random.random((1000, 20))\n",
    "y_train = keras.utils.to_categorical(np.random.randint(10, size=(1000, 1)), num_classes=10)\n",
    "x_test = np.random.random((100, 20))\n",
    "y_test = keras.utils.to_categorical(np.random.randint(10, size=(100, 1)), num_classes=10)\n",
    "\n",
    "model = Sequential()\n",
    "# Dense(64) is a fully-connected layer with 64 hidden units.\n",
    "# in the first layer, you must specify the expected input data shape:\n",
    "# here, 20-dimensional vectors.\n",
    "model.add(Dense(64, activation='relu', input_dim=20))\n",
    "model.add(Dropout(0.5))\n",
    "model.add(Dense(64, activation='relu'))\n",
    "model.add(Dropout(0.5))\n",
    "model.add(Dense(10, activation='softmax'))\n",
    "\n",
    "sgd = SGD(lr=0.01, decay=1e-6, momentum=0.9, nesterov=True)\n",
    "model.compile(loss='categorical_crossentropy',\n",
    "              optimizer=sgd,\n",
    "              metrics=['accuracy'])\n",
    "\n",
    "model.fit(x_train, y_train,\n",
    "          epochs=20,\n",
    "          batch_size=128)\n",
    "score = model.evaluate(x_test, y_test, batch_size=128)"
   ]
  },
  {
   "cell_type": "code",
   "execution_count": null,
   "metadata": {},
   "outputs": [],
   "source": []
  }
 ],
 "metadata": {
  "kernelspec": {
   "display_name": "Python 3",
   "language": "python",
   "name": "python3"
  },
  "language_info": {
   "codemirror_mode": {
    "name": "ipython",
    "version": 3
   },
   "file_extension": ".py",
   "mimetype": "text/x-python",
   "name": "python",
   "nbconvert_exporter": "python",
   "pygments_lexer": "ipython3",
   "version": "3.5.2"
  }
 },
 "nbformat": 4,
 "nbformat_minor": 2
}
